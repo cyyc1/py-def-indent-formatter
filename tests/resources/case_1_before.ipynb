{
 "cells": [
  {
   "cell_type": "code",
   "execution_count": 1,
   "id": "c77bad00",
   "metadata": {},
   "outputs": [],
   "source": [
    "def some_func(\n",
    "    arg1,\n",
    "    arg2,\n",
    "    arg3,\n",
    "):\n",
    "    print(1)"
   ]
  },
  {
   "cell_type": "code",
   "execution_count": 2,
   "id": "fed9b007",
   "metadata": {},
   "outputs": [],
   "source": [
    "def some_func_2(\n",
    "    arg1, arg2, arg3,\n",
    "):\n",
    "    return None"
   ]
  },
  {
   "cell_type": "code",
   "execution_count": 3,
   "id": "5ba174c3",
   "metadata": {},
   "outputs": [],
   "source": [
    "def some_func_3(\n",
    "    *,\n",
    "    arg1,\n",
    "    arg2,\n",
    "    arg3,\n",
    "):\n",
    "    return 2"
   ]
  }
 ],
 "metadata": {
  "kernelspec": {
   "display_name": "Python 3 (ipykernel)",
   "language": "python",
   "name": "python3"
  },
  "language_info": {
   "codemirror_mode": {
    "name": "ipython",
    "version": 3
   },
   "file_extension": ".py",
   "mimetype": "text/x-python",
   "name": "python",
   "nbconvert_exporter": "python",
   "pygments_lexer": "ipython3",
   "version": "3.9.13"
  }
 },
 "nbformat": 4,
 "nbformat_minor": 5
}
